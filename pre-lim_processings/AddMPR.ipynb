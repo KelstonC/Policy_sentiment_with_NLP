{
 "cells": [
  {
   "cell_type": "markdown",
   "metadata": {},
   "source": [
    "# Canada's Monetary Policy Report: if text could speak, what would it say?\n",
    "\n",
    "### This notebook adds to the appropriate folder and cleans the most recent MPR.\n",
    "#### Before running this code - Download the latest MPR (PDF) from the BoC website - transform it into a text file - remove charts, tables, footnotes, appendices, and any non-text elements at the beginning or the end of the MPR.\n",
    "\n",
    "#### This workbook should \"just work\". If it does not, or if you find an error, please email the authors.\n",
    "\n",
    "##### André Binette <abinette@bankofcanada.ca>\n",
    "\n",
    "##### Dmitri Tchebotarev <dtchebotarev@bankofcanada.ca>\n",
    "\n",
    "---------------------------------------------------------------------------------------------------------------------------"
   ]
  },
  {
   "cell_type": "markdown",
   "metadata": {},
   "source": [
    "## Set up the environment"
   ]
  },
  {
   "cell_type": "markdown",
   "metadata": {},
   "source": [
    "### Import required modules"
   ]
  },
  {
   "cell_type": "code",
   "execution_count": 1,
   "metadata": {},
   "outputs": [],
   "source": [
    "import spacy\n",
    "nlp = spacy.load(\"en_core_web_sm\")\n",
    "import re\n",
    "from pathlib import Path"
   ]
  },
  {
   "cell_type": "markdown",
   "metadata": {},
   "source": [
    "## Define helper functions"
   ]
  },
  {
   "cell_type": "code",
   "execution_count": 2,
   "metadata": {},
   "outputs": [],
   "source": [
    "# Function to clean MPRs\n",
    "\n",
    "def clean_mpr_text(org_text):\n",
    "    text = org_text\n",
    "    \n",
    "    # convert some common Unicode symbols to the corresponding ASCII\n",
    "    # https://en.wikipedia.org/wiki/Quotation_mark\n",
    "    text = re.sub(\"\\u2018|\\u2019|\\u201A|\\u201B|\\u00B4|\\u2039|\\u203A\", \"\\'\", text)\n",
    "    text = re.sub(\"\\u201C|\\u201D|\\u201E|\\u201F|\\u00AB|\\u00BB|\\u2E42\", \"\\\"\", text)\n",
    "    # https://en.wikipedia.org/wiki/Dash\n",
    "    text = re.sub(\"\\u2010|\\u2011|\\u2012|\\u2013|\\u2014\\u2015\", \"-\", text)\n",
    "    # https://en.wikipedia.org/wiki/Bullet_(typography)\n",
    "    text = re.sub(\"\\u2022|\\u2023|\\u2043|\\u204C|\\u204D\", \"*\", text)\n",
    "    \n",
    "    text = re.sub(r\"\\n\\s*\\n\", \"\\n\\n\", text)\n",
    "    text = re.sub(r\"([^\\n])\\n([^\\n])\", \"\\\\1 \\\\2\", text)\n",
    "    text = re.sub(r\"\\n\\n\", \"\\n \\n\", text)\n",
    "    text = re.sub(r\"\\+/\\-\", \"±\", text)\n",
    "    text = re.sub(r\"\\s>\\s\", \" - \", text)\n",
    "    text = re.sub(r\"U\\.S\\.\\s*(Federal\\s*Reserve|CARS|Residential|Real\\s*GDP|Treasuries|Treasury|Midwest|GDP)\", \"US \\\\1\", text)\n",
    "    text = re.sub(r\"U\\.S\\.(\\s*[A-Z])?\", lambda m: \"US\" + ((\".\"+m.group(1)) if m.group(1) else \"\"), text)\n",
    "    text = \"\\n\".join( map( lambda par: re.sub(r\"\\s\", \" \", par), text.splitlines()) )\n",
    "    # remove URL\n",
    "    text = re.sub(r\"\\s*(\\()?(<)?http[^>\\)]*?(?(2)>)(?(1)\\))\\s*(\\.)?\", \n",
    "                  lambda m: \".\" if m.group(3) else \" \", text)\n",
    "    \n",
    "    text = re.sub(r\"\\s*\\((?:\\w*|available on the Bank's website.*?|(?:See|Chart|Table|Box|Technical).*?)\\)\\s*(\\.)?\", \n",
    "                  lambda m: \".\" if m.group(1) else \" \", text)\n",
    "    \n",
    "    return text    \n",
    "\n",
    "\n",
    "# Quick check for the sentences (very short or very long sentences should be look at)\n",
    "\n",
    "def check_mpr_text(text):\n",
    "    found = False\n",
    "    sents = []\n",
    "    text = re.sub(r\"\\s+\", \" \", text)\n",
    "    text = re.sub(r\"\\. \", \".  \", text)\n",
    "    for s in nlp(text).sents:\n",
    "        sents.append(s)\n",
    "        if found:\n",
    "            print(fname, \":\", s, '\\n')\n",
    "            found = False\n",
    "        nwords = sum(t.is_alpha for t in s)     \n",
    "        if (nwords < 3) or any(tok.text in (\".\", \"?\", \"!\") for tok in s[:-2]) or (nwords > 100):\n",
    "            found = True\n",
    "            print(fname, \":\", s)\n",
    "\n",
    "\n",
    "# Save the resulting MPR\n",
    "\n",
    "def save_mpr(text, year, month, day):\n",
    "    fname = \"mpr_text/mpr-%4d-%02d-%02d.txt\" % (year, month, day)    \n",
    "    with open(fname, \"wt\") as ff:\n",
    "        ff.write(text)\n",
    "\n",
    "        \n",
    "# Date format to be enter\n",
    "\n",
    "def date_from_mpr_fname(fname):\n",
    "    match = re.search(r\"(\\d{4})-(\\d{2})-(\\d{2})\", str(fname))\n",
    "    if not match:\n",
    "        raise ValueError(\"No date found in the given filename.\")\n",
    "    return [int(g) for g in match.groups()]"
   ]
  },
  {
   "cell_type": "markdown",
   "metadata": {},
   "source": [
    "## Run the function -- need to enter the path of the latest MPR text files"
   ]
  },
  {
   "cell_type": "code",
   "execution_count": 3,
   "metadata": {},
   "outputs": [
    {
     "name": "stdout",
     "output_type": "stream",
     "text": [
      "2019-01-09 /Users/kelstonchen/Documents/QueensMA/MA_Essay/mpr_text_raw/mpr-2019-01-09.txt\n",
      "2019-04-24 /Users/kelstonchen/Documents/QueensMA/MA_Essay/mpr_text_raw/mpr-2019-04-24.txt\n",
      "2019-07-10 /Users/kelstonchen/Documents/QueensMA/MA_Essay/mpr_text_raw/mpr-2019-07-10.txt\n",
      "2019-10-30 /Users/kelstonchen/Documents/QueensMA/MA_Essay/mpr_text_raw/mpr-2019-10-30.txt\n",
      "/Users/kelstonchen/Documents/QueensMA/MA_Essay/mpr_text_raw/mpr-2019-10-30.txt :  \n",
      "2020-01-22 /Users/kelstonchen/Documents/QueensMA/MA_Essay/mpr_text_raw/mpr-2020-01-22.txt\n",
      "2020-04-15 /Users/kelstonchen/Documents/QueensMA/MA_Essay/mpr_text_raw/mpr-2020-04-15.txt\n",
      "2020-07-15 /Users/kelstonchen/Documents/QueensMA/MA_Essay/mpr_text_raw/mpr-2020-07-15.txt\n",
      "2020-10-28 /Users/kelstonchen/Documents/QueensMA/MA_Essay/mpr_text_raw/mpr-2020-10-28.txt\n",
      "/Users/kelstonchen/Documents/QueensMA/MA_Essay/mpr_text_raw/mpr-2020-10-28.txt :  2\n",
      "/Users/kelstonchen/Documents/QueensMA/MA_Essay/mpr_text_raw/mpr-2020-10-28.txt : The pandemic is also expected to reduce labour input and total factor productivity growth, slowing potential and actual output growth in the euro area. \n",
      "\n",
      "2021-01-20 /Users/kelstonchen/Documents/QueensMA/MA_Essay/mpr_text_raw/mpr-2021-01-20.txt\n",
      "/Users/kelstonchen/Documents/QueensMA/MA_Essay/mpr_text_raw/mpr-2021-01-20.txt :  \n",
      "2021-04-21 /Users/kelstonchen/Documents/QueensMA/MA_Essay/mpr_text_raw/mpr-2021-04-21.txt\n",
      "2021-07-14 /Users/kelstonchen/Documents/QueensMA/MA_Essay/mpr_text_raw/mpr-2021-07-14.txt\n",
      "2021-10-27 /Users/kelstonchen/Documents/QueensMA/MA_Essay/mpr_text_raw/mpr-2021-10-27.txt\n",
      "2022-01-26 /Users/kelstonchen/Documents/QueensMA/MA_Essay/mpr_text_raw/mpr-2022-01-26.txt\n",
      "2022-04-13 /Users/kelstonchen/Documents/QueensMA/MA_Essay/mpr_text_raw/mpr-2022-04-13.txt\n",
      "2022-07-13 /Users/kelstonchen/Documents/QueensMA/MA_Essay/mpr_text_raw/mpr-2022-07-13.txt\n",
      "/Users/kelstonchen/Documents/QueensMA/MA_Essay/mpr_text_raw/mpr-2022-07-13.txt :  \n",
      "2022-10-26 /Users/kelstonchen/Documents/QueensMA/MA_Essay/mpr_text_raw/mpr-2022-10-26.txt\n",
      "/Users/kelstonchen/Documents/QueensMA/MA_Essay/mpr_text_raw/mpr-2022-10-26.txt :  \n",
      "/Users/kelstonchen/Documents/QueensMA/MA_Essay/mpr_text_raw/mpr-2022-10-26.txt : Although 3-month measures of core inflation point to a lower level of underlying inflation than the year-over-year measure, their levels remain well above target. \n",
      "\n",
      "/Users/kelstonchen/Documents/QueensMA/MA_Essay/mpr_text_raw/mpr-2022-10-26.txt :  \n",
      "/Users/kelstonchen/Documents/QueensMA/MA_Essay/mpr_text_raw/mpr-2022-10-26.txt : Household spending strengthens beginning in the second half of 2023 and extends through 2024. \n",
      "\n",
      "2023-01-25 /Users/kelstonchen/Documents/QueensMA/MA_Essay/mpr_text_raw/mpr-2023-01-25.txt\n",
      "/Users/kelstonchen/Documents/QueensMA/MA_Essay/mpr_text_raw/mpr-2023-01-25.txt :  \n",
      "2023-04-12 /Users/kelstonchen/Documents/QueensMA/MA_Essay/mpr_text_raw/mpr-2023-04-12.txt\n"
     ]
    }
   ],
   "source": [
    "# Set file path to the RAW UNCLEANED Text files\n",
    "raw_path = Path.cwd().joinpath(\"mpr_text_raw\")\n",
    "\n",
    "# Clean, check and save the MPR for a specific date \n",
    "################################################\n",
    "new_mpr_files = [\n",
    "    raw_path.joinpath(\"mpr-2019-01-09.txt\"),\n",
    "    raw_path.joinpath(\"mpr-2019-04-24.txt\"),\n",
    "    raw_path.joinpath(\"mpr-2019-07-10.txt\"),\n",
    "    raw_path.joinpath(\"mpr-2019-10-30.txt\"),\n",
    "    raw_path.joinpath(\"mpr-2020-01-22.txt\"),\n",
    "    raw_path.joinpath(\"mpr-2020-04-15.txt\"),\n",
    "    raw_path.joinpath(\"mpr-2020-07-15.txt\"),\n",
    "    raw_path.joinpath(\"mpr-2020-10-28.txt\"),\n",
    "    raw_path.joinpath(\"mpr-2021-01-20.txt\"),\n",
    "    raw_path.joinpath(\"mpr-2021-04-21.txt\"),\n",
    "    raw_path.joinpath(\"mpr-2021-07-14.txt\"),\n",
    "    raw_path.joinpath(\"mpr-2021-10-27.txt\"),\n",
    "    raw_path.joinpath(\"mpr-2022-01-26.txt\"),\n",
    "    raw_path.joinpath(\"mpr-2022-04-13.txt\"),\n",
    "    raw_path.joinpath(\"mpr-2022-07-13.txt\"),\n",
    "    raw_path.joinpath(\"mpr-2022-10-26.txt\"),\n",
    "    raw_path.joinpath(\"mpr-2023-01-25.txt\"),\n",
    "    raw_path.joinpath(\"mpr-2023-04-12.txt\"),\n",
    "]\n",
    "################################################\n",
    "\n",
    "assert isinstance(new_mpr_files, list), \"It must be a list, not a string!\"\n",
    "for mpr_filename in new_mpr_files:\n",
    "    fname = mpr_filename # Undefined error without this line, Added by Kelston #\n",
    "    try:\n",
    "        year, month, day = date_from_mpr_fname(mpr_filename)\n",
    "    except ValueError:\n",
    "        print(\"Enter the publication date for\", mpr_filename)\n",
    "        year = int(input(\"year:\"))\n",
    "        month = int(input(\"month:\"))\n",
    "        day = int(input(\"day:\"))\n",
    "    except:\n",
    "        raise\n",
    "\n",
    "    print(\"%4d-%02d-%02d\" % (year, month, day), mpr_filename)\n",
    "        \n",
    "    with open(mpr_filename, \"rt\") as ff:\n",
    "        text = clean_mpr_text(ff.read())\n",
    "        check_mpr_text(text)\n",
    "        save_mpr(text, year, month, day)"
   ]
  },
  {
   "cell_type": "code",
   "execution_count": null,
   "metadata": {},
   "outputs": [],
   "source": []
  }
 ],
 "metadata": {
  "kernelspec": {
   "display_name": "Python 3 (ipykernel)",
   "language": "python",
   "name": "python3"
  },
  "language_info": {
   "codemirror_mode": {
    "name": "ipython",
    "version": 3
   },
   "file_extension": ".py",
   "mimetype": "text/x-python",
   "name": "python",
   "nbconvert_exporter": "python",
   "pygments_lexer": "ipython3",
   "version": "3.10.10"
  }
 },
 "nbformat": 4,
 "nbformat_minor": 4
}
