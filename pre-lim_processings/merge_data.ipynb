{
 "cells": [
  {
   "cell_type": "code",
   "execution_count": 26,
   "id": "45011836-a637-4306-b8c5-80ee2176cc9f",
   "metadata": {},
   "outputs": [],
   "source": [
    "import pandas as pd\n",
    "import numpy as np\n",
    "from pathlib import Path"
   ]
  },
  {
   "cell_type": "code",
   "execution_count": 27,
   "id": "b5df17a8-a063-40ac-8f11-c606e6e2c285",
   "metadata": {},
   "outputs": [],
   "source": [
    "file_path = Path.cwd().joinpath(\"Data\", \"mpr_data_labelled\")"
   ]
  },
  {
   "cell_type": "code",
   "execution_count": 28,
   "id": "74b36c8c-0958-455a-8459-efff1b89e17c",
   "metadata": {},
   "outputs": [],
   "source": [
    "dfs = list()\n",
    "\n",
    "for date in pd.date_range(start=\"1995-05-15\", end=\"2023-04-12\"):\n",
    "    try:\n",
    "        df = pd.read_excel(file_path.joinpath(f\"MPR-{date.strftime('%Y-%m-%d')}.xlsx\"), usecols=['text', 'class'])\n",
    "        df['mpr'] = date.strftime('%Y-%m-%d')\n",
    "        dfs.append(df)\n",
    "        del df\n",
    "    except:\n",
    "        pass\n",
    "\n",
    "data = pd.concat(dfs, ignore_index=True)"
   ]
  },
  {
   "cell_type": "code",
   "execution_count": 23,
   "id": "da1ba54d-c8c2-4ab6-ab89-ad144a418a9f",
   "metadata": {},
   "outputs": [],
   "source": [
    "### Export the data ###\n",
    "# data.to_csv(Path.cwd().joinpath(\"Data\", \"mpr_data_merged\", 'mpr_full_V1.csv'), index=False)"
   ]
  },
  {
   "cell_type": "code",
   "execution_count": null,
   "id": "6eea7030-3bc0-4f50-a8e0-f69b202bf3a0",
   "metadata": {},
   "outputs": [],
   "source": []
  }
 ],
 "metadata": {
  "kernelspec": {
   "display_name": "Python 3 (ipykernel)",
   "language": "python",
   "name": "python3"
  },
  "language_info": {
   "codemirror_mode": {
    "name": "ipython",
    "version": 3
   },
   "file_extension": ".py",
   "mimetype": "text/x-python",
   "name": "python",
   "nbconvert_exporter": "python",
   "pygments_lexer": "ipython3",
   "version": "3.9.16"
  }
 },
 "nbformat": 4,
 "nbformat_minor": 5
}
