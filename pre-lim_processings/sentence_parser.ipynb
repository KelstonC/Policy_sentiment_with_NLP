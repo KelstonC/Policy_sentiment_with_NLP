{
 "cells": [
  {
   "cell_type": "markdown",
   "id": "c534da6b-d045-4edc-abfd-c46ba0ed4238",
   "metadata": {},
   "source": [
    "# This notebook will generate the data we will use for the NLP models\n",
    "\n",
    "* The following code will sparse the text files into individual sentences, where each row will be a sentence\n",
    "\n",
    "* Additionally, a `polarity score` from `vader` and `spaCy` will be assigned to each sentence\n",
    "\n",
    "* The data will then be ready to **labelling**, I will manually label a score from 1-3 (negative, neutral, positive) for each sentence"
   ]
  },
  {
   "cell_type": "code",
   "execution_count": 1,
   "id": "e73ca2a0-2242-4b66-91a8-47a25a0c0762",
   "metadata": {},
   "outputs": [],
   "source": [
    "import spacy\n",
    "\n",
    "from spacytextblob.spacytextblob import SpacyTextBlob\n",
    "import pandas as pd\n",
    "import numpy as np\n",
    "nlp = spacy.load(\"en_core_web_sm\")\n",
    "nlp.add_pipe('spacytextblob')\n",
    "from pathlib import Path\n",
    "\n",
    "from vaderSentiment.vaderSentiment import SentimentIntensityAnalyzer\n",
    "sia = SentimentIntensityAnalyzer()"
   ]
  },
  {
   "cell_type": "code",
   "execution_count": 2,
   "id": "1a05cc5b-bac8-4f67-8b9a-6df17f44bbf3",
   "metadata": {},
   "outputs": [],
   "source": [
    "file_path = Path.cwd().joinpath(\"mpr_text\")"
   ]
  },
  {
   "cell_type": "code",
   "execution_count": 3,
   "id": "b1c0abef-0d08-4343-86be-9acba9193be0",
   "metadata": {},
   "outputs": [],
   "source": [
    "def read_process_text(file_name):\n",
    "    # Read in MPR text file\n",
    "    file = open(file_path.joinpath(file_name), \"r\")\n",
    "    # Remove all newline characters\n",
    "    clean_text = file.read().replace('\\n', '')\n",
    "    # Use spaCy to do a bunch of text stuff\n",
    "    doc = nlp(clean_text)\n",
    "    file.close() # close the file\n",
    "    return doc\n",
    "\n",
    "def create_text_dataframe(doc):\n",
    "    sentences = []\n",
    "    polarities = []\n",
    "    for sent in doc.sents:\n",
    "        sentences.append(sent.text)\n",
    "        polarities.append(sent._.blob.polarity)\n",
    "    \n",
    "    df = pd.DataFrame(\n",
    "        {'text': sentences, \n",
    "         'class': [None]*len(sentences), \n",
    "         'textblob_polarity': polarities\n",
    "        }\n",
    "    )\n",
    "    \n",
    "    vader_polarities = []\n",
    "    \n",
    "    for sent in df.text:\n",
    "        vader_polarities.append(sia.polarity_scores(sent)['compound'])\n",
    "    \n",
    "    df['vader_polarity'] = vader_polarities\n",
    "    return df"
   ]
  },
  {
   "cell_type": "code",
   "execution_count": 4,
   "id": "48aabd0f-a225-486c-8d8f-eadbdd8b38d0",
   "metadata": {},
   "outputs": [],
   "source": [
    "#### Create the text data files ####\n",
    "\n",
    "# for date in pd.date_range(start=\"1995-05-15\", end=\"2023-04-12\"):\n",
    "#     try:\n",
    "#         doc = read_process_text(f\"mpr-{date.strftime('%Y-%m-%d')}.txt\")\n",
    "#         df = create_text_dataframe(doc)\n",
    "#         df.to_excel(Path.cwd().joinpath(\"Data\", \"mpr_data\", f\"MPR-{date.strftime('%Y-%m-%d')}-unlabeled.xlsx\"), index=False)\n",
    "#         print(\"Success:\", date.strftime('%Y-%m-%d'))\n",
    "#     except:\n",
    "#         pass"
   ]
  },
  {
   "cell_type": "markdown",
   "id": "3027e1cf-c524-4c97-b1b0-505d5a621910",
   "metadata": {},
   "source": [
    "## Testing \n",
    "\n",
    "**Can ignore this stuff...**"
   ]
  },
  {
   "cell_type": "code",
   "execution_count": 5,
   "id": "226295b3-29bb-4459-be5f-bef166ef6c29",
   "metadata": {},
   "outputs": [],
   "source": [
    "# # Read in MPR text file\n",
    "# f = open(file_path.joinpath(\"mpr-2023-04-12.txt\"), \"r\")\n",
    "# # Remove newline spacing\n",
    "# clean_txt = f.read().replace('\\n', '')\n",
    "# doc = nlp(clean_txt) # send it to spaCy to process\n",
    "\n",
    "# f.close() # close MPR text file\n",
    "\n",
    "# sentence_list = []\n",
    "\n",
    "# for sent in doc.sents:\n",
    "#     sentence_list.append(sent.text)\n",
    "    \n",
    "# pd.Series(sentence_list).to_excel(\"test.xlsx\", sheet_name=\"sheet1\")"
   ]
  },
  {
   "cell_type": "code",
   "execution_count": null,
   "id": "9b034d94-3a61-47ea-89e9-c5d0b295961e",
   "metadata": {},
   "outputs": [],
   "source": []
  }
 ],
 "metadata": {
  "kernelspec": {
   "display_name": "Python 3 (ipykernel)",
   "language": "python",
   "name": "python3"
  },
  "language_info": {
   "codemirror_mode": {
    "name": "ipython",
    "version": 3
   },
   "file_extension": ".py",
   "mimetype": "text/x-python",
   "name": "python",
   "nbconvert_exporter": "python",
   "pygments_lexer": "ipython3",
   "version": "3.9.15"
  }
 },
 "nbformat": 4,
 "nbformat_minor": 5
}
